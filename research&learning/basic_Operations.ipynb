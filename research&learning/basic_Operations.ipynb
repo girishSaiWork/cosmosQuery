{
 "cells": [
  {
   "cell_type": "code",
   "execution_count": 2,
   "metadata": {},
   "outputs": [
    {
     "name": "stdout",
     "output_type": "stream",
     "text": [
      "Current working directory: e:\\Study Space\\Python Workspace\\ELastic Search\n",
      "Environment file path: e:\\Study Space\\Python Workspace\\ELastic Search\\.env.local\n",
      "Raw LOCALHOST value: 'http://localhost:9200/'\n",
      "LOCALHOST found in environment file.\n",
      "Processed LOCALHOST value: 'http://localhost:9200/'\n",
      "Connected to Elasticsearch!\n",
      "{'cluster_name': 'docker-cluster',\n",
      " 'cluster_uuid': 'AKPh90H1StWquQfBPE4Chw',\n",
      " 'name': 'b66a5ae1a4a1',\n",
      " 'tagline': 'You Know, for Search',\n",
      " 'version': {'build_date': '2024-08-05T10:05:34.233336849Z',\n",
      "             'build_flavor': 'default',\n",
      "             'build_hash': '1a77947f34deddb41af25e6f0ddb8e830159c179',\n",
      "             'build_snapshot': False,\n",
      "             'build_type': 'docker',\n",
      "             'lucene_version': '9.11.1',\n",
      "             'minimum_index_compatibility_version': '7.0.0',\n",
      "             'minimum_wire_compatibility_version': '7.17.0',\n",
      "             'number': '8.15.0'}}\n"
     ]
    }
   ],
   "source": [
    "from pprint import pprint\n",
    "from elasticsearch import Elasticsearch\n",
    "from dotenv import load_dotenv\n",
    "import os\n",
    "\n",
    "# Correct path with double backslashes\n",
    "env_path = os.path.join('e:\\\\', 'Study Space', 'Python Workspace', 'ELastic Search', '.env.local')\n",
    "\n",
    "# Load environment variables\n",
    "load_dotenv(dotenv_path=env_path)\n",
    "\n",
    "# Print debugging information\n",
    "print(\"Current working directory:\", os.getcwd())\n",
    "print(\"Environment file path:\", env_path)\n",
    "\n",
    "# Get the LOCALHOST variable\n",
    "LOCALHOST = os.getenv('LOCALHOST')\n",
    "print(\"Raw LOCALHOST value:\", repr(LOCALHOST))\n",
    "\n",
    "# Ensure LOCALHOST is properly processed\n",
    "if not LOCALHOST:\n",
    "    print(\"LOCALHOST not found in environment file.\")\n",
    "    # Fallback to default if not found\n",
    "    LOCALHOST = \"http://localhost:9200/\"\n",
    "else:\n",
    "    print(\"LOCALHOST found in environment file.\")\n",
    "    # Remove quotes if present\n",
    "    LOCALHOST = LOCALHOST.strip('\"')\n",
    "\n",
    "print(\"Processed LOCALHOST value:\", repr(LOCALHOST))\n",
    "\n",
    "# Connect to Elasticsearch\n",
    "try:\n",
    "    es = Elasticsearch([LOCALHOST])\n",
    "    client_info = es.info()\n",
    "    print('Connected to Elasticsearch!')\n",
    "    pprint(client_info.body)\n",
    "except Exception as e:\n",
    "    print(f\"Connection error: {e}\")"
   ]
  },
  {
   "cell_type": "code",
   "execution_count": 3,
   "metadata": {},
   "outputs": [
    {
     "data": {
      "text/plain": [
       "ObjectApiResponse({'acknowledged': True, 'shards_acknowledged': True, 'index': 'base_index'})"
      ]
     },
     "execution_count": 3,
     "metadata": {},
     "output_type": "execute_result"
    }
   ],
   "source": [
    "es.indices.delete(index=\"base_index\", ignore_unavailable=True)\n",
    "es.indices.create(index=\"base_index\")"
   ]
  },
  {
   "cell_type": "code",
   "execution_count": 4,
   "metadata": {},
   "outputs": [
    {
     "name": "stderr",
     "output_type": "stream",
     "text": [
      "100%|██████████| 3/3 [00:00<00:00, 34.16it/s]\n"
     ]
    }
   ],
   "source": [
    "import json\n",
    "from tqdm import tqdm\n",
    "\n",
    "\n",
    "document_ids = []\n",
    "dummy_data = json.load(open(\"./data/blogs.json\"))\n",
    "for document in tqdm(dummy_data, total=len(dummy_data)):\n",
    "    response = es.index(index='my_index', body=document)\n",
    "    document_ids.append(response['_id'])"
   ]
  },
  {
   "cell_type": "code",
   "execution_count": 5,
   "metadata": {},
   "outputs": [
    {
     "name": "stdout",
     "output_type": "stream",
     "text": [
      "['-1Qu25MByXxkAIfFehkf', '_FQu25MByXxkAIfFehlR', '_VQu25MByXxkAIfFehlj']\n"
     ]
    }
   ],
   "source": [
    "print(document_ids)"
   ]
  },
  {
   "cell_type": "markdown",
   "metadata": {},
   "source": [
    "## **DELETE Index**\n",
    "This is an example of a successful operation. If the `ID` exists in the document, the `delete` operation won't return any errors."
   ]
  },
  {
   "cell_type": "code",
   "execution_count": 6,
   "metadata": {},
   "outputs": [
    {
     "name": "stdout",
     "output_type": "stream",
     "text": [
      "{'_id': '-1Qu25MByXxkAIfFehkf',\n",
      " '_index': 'my_index',\n",
      " '_primary_term': 1,\n",
      " '_seq_no': 17,\n",
      " '_shards': {'failed': 0, 'successful': 1, 'total': 2},\n",
      " '_version': 2,\n",
      " 'result': 'deleted'}\n"
     ]
    }
   ],
   "source": [
    "response = es.delete(index='my_index', id=document_ids[0])\n",
    "pprint(response.body)"
   ]
  },
  {
   "cell_type": "markdown",
   "metadata": {},
   "source": [
    "This example shows that the delete operation fails when providing it with an ID that does not exist in the index."
   ]
  },
  {
   "cell_type": "code",
   "execution_count": 7,
   "metadata": {},
   "outputs": [
    {
     "name": "stdout",
     "output_type": "stream",
     "text": [
      "NotFoundError(404, \"{'_index': 'my_index', '_id': 'id', '_version': 1, 'result': 'not_found', '_shards': {'total': 2, 'successful': 1, 'failed': 0}, '_seq_no': 18, '_primary_term': 1}\")\n"
     ]
    }
   ],
   "source": [
    "try:\n",
    "    response = es.delete(index='my_index', id=\"id\")\n",
    "except Exception as e:\n",
    "    print(e)"
   ]
  },
  {
   "cell_type": "markdown",
   "metadata": {},
   "source": [
    "\n",
    "## **Get operation**\n",
    "\n",
    "This is an example of a successful operation. If the ID exists in the document, the get operation won't return any errors.\n"
   ]
  },
  {
   "cell_type": "code",
   "execution_count": 8,
   "metadata": {},
   "outputs": [
    {
     "name": "stdout",
     "output_type": "stream",
     "text": [
      "{'_id': '_FQu25MByXxkAIfFehlR',\n",
      " '_index': 'my_index',\n",
      " '_primary_term': 1,\n",
      " '_seq_no': 15,\n",
      " '_source': {'author': 'Jane Doe',\n",
      "             'content': 'Elastic Stack is a collection of products that helps '\n",
      "                        'you to store, search, analyze, and visualize data.',\n",
      "             'published_date': '2024-12-17',\n",
      "             'title': 'Elastic Stack'},\n",
      " '_version': 1,\n",
      " 'found': True}\n"
     ]
    }
   ],
   "source": [
    "response = es.get(index='my_index', id=document_ids[1])\n",
    "pprint(response.body)"
   ]
  },
  {
   "cell_type": "code",
   "execution_count": 9,
   "metadata": {},
   "outputs": [
    {
     "name": "stdout",
     "output_type": "stream",
     "text": [
      "NotFoundError(404, \"{'_index': 'my_index', '_id': 'id', 'found': False}\")\n"
     ]
    }
   ],
   "source": [
    "try:\n",
    "    response = es.get(index='my_index', id=\"id\")\n",
    "except Exception as e:\n",
    "    print(e)"
   ]
  },
  {
   "cell_type": "markdown",
   "metadata": {},
   "source": [
    "## **Search operation**"
   ]
  },
  {
   "cell_type": "code",
   "execution_count": 17,
   "metadata": {},
   "outputs": [
    {
     "name": "stdout",
     "output_type": "stream",
     "text": [
      "ID: 81T11pMByXxkAIfFZhnL, Source: {'title': 'Elastic Stack', 'author': 'Jane Doe', 'content': 'Elastic Stack is a collection of products that helps you to store, search, analyze, and visualize data.', 'published_date': '2024-12-17'}\n",
      "ID: 9FT11pMByXxkAIfFZhnZ, Source: {'title': 'Kibana', 'author': 'John Doe', 'content': 'Kibana is a data visualization tool that is part of the Elastic Stack.', 'published_date': '2024-12-18'}\n",
      "ID: 9VT81pMByXxkAIfFRBnG, Source: {'title': 'Elasticsearch Basics', 'author': 'John Doe', 'content': 'Elasticsearch is a search engine based on Lucene.', 'published_date': '2024-12-16'}\n",
      "ID: 9lT81pMByXxkAIfFRBn4, Source: {'title': 'Elastic Stack', 'author': 'Jane Doe', 'content': 'Elastic Stack is a collection of products that helps you to store, search, analyze, and visualize data.', 'published_date': '2024-12-17'}\n",
      "ID: 91T81pMByXxkAIfFRRkJ, Source: {'title': 'Kibana', 'author': 'John Doe', 'content': 'Kibana is a data visualization tool that is part of the Elastic Stack.', 'published_date': '2024-12-18'}\n",
      "ID: -VT91pMByXxkAIfFCRmE, Source: {'title': 'Elastic search Freecodecamp', 'author': 'Jane Doe', 'content': 'Elastic Stack is a collection of products that helps you to store, search, analyze, and visualize data.', 'published_date': '2024-12-17'}\n",
      "ID: -lT91pMByXxkAIfFCRmQ, Source: {'title': 'Kibana', 'author': 'John Doe', 'content': 'Kibana is a data visualization tool that is part of the Elastic Stack.', 'published_date': '2024-12-18'}\n",
      "ID: _FQu25MByXxkAIfFehlR, Source: {'title': 'Elastic search Freecodecamp', 'author': 'Jane Doe', 'content': 'Elastic Stack is a collection of products that helps you to store, search, analyze, and visualize data.', 'published_date': '2024-12-17'}\n",
      "ID: _VQu25MByXxkAIfFehlj, Source: {'title': 'Elastic search Freecodecamp 2', 'author': 'Imad from Youtube from 2CodeCampers channel', 'content': 'Kibana is a data visualization tool that is part of the Elastic Stack.', 'published_date': '2024-12-18'}\n"
     ]
    },
    {
     "name": "stderr",
     "output_type": "stream",
     "text": [
      "C:\\Users\\saigi\\AppData\\Local\\Temp\\ipykernel_19280\\1383152481.py:2: DeprecationWarning: Received 'size' via a specific parameter in the presence of a 'body' parameter, which is deprecated and will be removed in a future version. Instead, use only 'body' or only specific parameters.\n",
      "  search_result = es.search(index=\"my_index\", body={\"query\": {\"match_all\": {}}}, size=1000)\n"
     ]
    }
   ],
   "source": [
    "# Fetch all documents (adjust the size for your needs)\n",
    "search_result = es.search(index=\"my_index\", body={\"query\": {\"match_all\": {}}}, size=1000)\n",
    "# Print documents\n",
    "for hit in search_result['hits']['hits']:\n",
    "    print(f\"ID: {hit['_id']}, Source: {hit['_source']}\")"
   ]
  },
  {
   "cell_type": "markdown",
   "metadata": {},
   "source": [
    "## **Count operation**"
   ]
  },
  {
   "cell_type": "code",
   "execution_count": 11,
   "metadata": {},
   "outputs": [
    {
     "name": "stdout",
     "output_type": "stream",
     "text": [
      "The number of documents in the index is 9\n"
     ]
    }
   ],
   "source": [
    "result = es.count(index=\"my_index\")\n",
    "count = result[\"count\"]\n",
    "\n",
    "print(f\"The number of documents in the index is {count}\")"
   ]
  },
  {
   "cell_type": "markdown",
   "metadata": {},
   "source": [
    "## **Exisits API**"
   ]
  },
  {
   "cell_type": "code",
   "execution_count": 12,
   "metadata": {},
   "outputs": [
    {
     "data": {
      "text/plain": [
       "True"
      ]
     },
     "execution_count": 12,
     "metadata": {},
     "output_type": "execute_result"
    }
   ],
   "source": [
    "response = es.indices.exists(index='my_index')\n",
    "response.body"
   ]
  },
  {
   "cell_type": "code",
   "execution_count": 13,
   "metadata": {},
   "outputs": [
    {
     "data": {
      "text/plain": [
       "False"
      ]
     },
     "execution_count": 13,
     "metadata": {},
     "output_type": "execute_result"
    }
   ],
   "source": [
    "response = es.exists(index='my_index', id=document_ids[0])\n",
    "response.body"
   ]
  },
  {
   "cell_type": "markdown",
   "metadata": {},
   "source": [
    "## **Update Operation**"
   ]
  },
  {
   "cell_type": "markdown",
   "metadata": {},
   "source": [
    "### **Update using the script method in update API**"
   ]
  },
  {
   "cell_type": "code",
   "execution_count": 14,
   "metadata": {},
   "outputs": [
    {
     "name": "stdout",
     "output_type": "stream",
     "text": [
      "{'_id': '_FQu25MByXxkAIfFehlR',\n",
      " '_index': 'my_index',\n",
      " '_primary_term': 1,\n",
      " '_seq_no': 19,\n",
      " '_shards': {'failed': 0, 'successful': 1, 'total': 2},\n",
      " '_version': 2,\n",
      " 'result': 'updated'}\n"
     ]
    }
   ],
   "source": [
    "update_response = es.update(index='my_index'\n",
    "                           , id=document_ids[1],\n",
    "                           script={\n",
    "                            \"source\": \"ctx._source.title = params.title\",\n",
    "                            \"params\" : {\n",
    "                                \"title\" : \"Elastic search Freecodecamp\"\n",
    "                            }\n",
    "                           }\n",
    "                        )\n",
    "pprint(update_response.body)"
   ]
  },
  {
   "cell_type": "code",
   "execution_count": 15,
   "metadata": {},
   "outputs": [
    {
     "name": "stdout",
     "output_type": "stream",
     "text": [
      "{'_id': '_FQu25MByXxkAIfFehlR',\n",
      " '_index': 'my_index',\n",
      " '_primary_term': 1,\n",
      " '_seq_no': 19,\n",
      " '_source': {'author': 'Jane Doe',\n",
      "             'content': 'Elastic Stack is a collection of products that helps '\n",
      "                        'you to store, search, analyze, and visualize data.',\n",
      "             'published_date': '2024-12-17',\n",
      "             'title': 'Elastic search Freecodecamp'},\n",
      " '_version': 2,\n",
      " 'found': True}\n"
     ]
    }
   ],
   "source": [
    "response = es.get(index='my_index', id=document_ids[1])\n",
    "pprint(response.body)"
   ]
  },
  {
   "cell_type": "markdown",
   "metadata": {},
   "source": [
    "### **Update using the doc method in update API**"
   ]
  },
  {
   "cell_type": "code",
   "execution_count": 16,
   "metadata": {},
   "outputs": [
    {
     "name": "stdout",
     "output_type": "stream",
     "text": [
      "{'_id': '_VQu25MByXxkAIfFehlj',\n",
      " '_index': 'my_index',\n",
      " '_primary_term': 1,\n",
      " '_seq_no': 20,\n",
      " '_shards': {'failed': 0, 'successful': 1, 'total': 2},\n",
      " '_version': 2,\n",
      " 'result': 'updated'}\n"
     ]
    }
   ],
   "source": [
    "update_doc_response=es.update(index=\"my_index\",\n",
    "          id=document_ids[2],\n",
    "          doc={\n",
    "              \"title\": \"Elastic search Freecodecamp 2\",\n",
    "              \"author\": \"Imad from Youtube from 2CodeCampers channel\"\n",
    "          }\n",
    "          )\n",
    "pprint(update_doc_response.body)"
   ]
  },
  {
   "cell_type": "markdown",
   "metadata": {},
   "source": [
    "### **Update API : Remove a field**"
   ]
  },
  {
   "cell_type": "code",
   "execution_count": 26,
   "metadata": {},
   "outputs": [],
   "source": [
    "updated_document_ids= []\n",
    "for id in search_result['hits']['hits']:\n",
    "    updated_document_ids.append(id['_id'])"
   ]
  },
  {
   "cell_type": "code",
   "execution_count": 27,
   "metadata": {},
   "outputs": [
    {
     "name": "stdout",
     "output_type": "stream",
     "text": [
      "{'_id': '9lT81pMByXxkAIfFRBn4',\n",
      " '_index': 'my_index',\n",
      " '_primary_term': 1,\n",
      " '_seq_no': 21,\n",
      " '_shards': {'failed': 0, 'successful': 1, 'total': 2},\n",
      " '_version': 2,\n",
      " 'result': 'updated'}\n"
     ]
    }
   ],
   "source": [
    "remove_response = es.update(index=\"my_index\",\n",
    "                            id=updated_document_ids[3],\n",
    "                            script={\n",
    "                                \"source\": \"ctx._source.remove('published_date')\",\n",
    "                            },\n",
    "                            \n",
    "                            )\n",
    "pprint(remove_response.body)"
   ]
  },
  {
   "cell_type": "markdown",
   "metadata": {},
   "source": [
    "## **Upsert Operation** If documents doesn't exist in the index\n",
    "\n",
    "* We use doc_as_upsert to tell Elasticsearch that if the document does not exist, it should be inserted as a new document.\n"
   ]
  },
  {
   "cell_type": "code",
   "execution_count": 28,
   "metadata": {},
   "outputs": [
    {
     "name": "stdout",
     "output_type": "stream",
     "text": [
      "{'_id': '1',\n",
      " '_index': 'my_index',\n",
      " '_primary_term': 1,\n",
      " '_seq_no': 22,\n",
      " '_shards': {'failed': 0, 'successful': 1, 'total': 2},\n",
      " '_version': 1,\n",
      " 'result': 'created'}\n"
     ]
    }
   ],
   "source": [
    "response = es.update(\n",
    "    index=\"my_index\",\n",
    "    id=\"1\",\n",
    "    doc={\n",
    "        \"book_id\": 1234,\n",
    "        \"book_name\": \"A book\",\n",
    "    },\n",
    "    doc_as_upsert=True,\n",
    ")\n",
    "pprint(response.body)"
   ]
  },
  {
   "cell_type": "code",
   "execution_count": 29,
   "metadata": {},
   "outputs": [
    {
     "data": {
      "text/plain": [
       "10"
      ]
     },
     "execution_count": 29,
     "metadata": {},
     "output_type": "execute_result"
    }
   ],
   "source": [
    "response = es.count(index='my_index')\n",
    "response['count']"
   ]
  },
  {
   "cell_type": "code",
   "execution_count": null,
   "metadata": {},
   "outputs": [],
   "source": []
  }
 ],
 "metadata": {
  "kernelspec": {
   "display_name": "eleastic_search_venv",
   "language": "python",
   "name": "python3"
  },
  "language_info": {
   "codemirror_mode": {
    "name": "ipython",
    "version": 3
   },
   "file_extension": ".py",
   "mimetype": "text/x-python",
   "name": "python",
   "nbconvert_exporter": "python",
   "pygments_lexer": "ipython3",
   "version": "3.12.5"
  }
 },
 "nbformat": 4,
 "nbformat_minor": 2
}
