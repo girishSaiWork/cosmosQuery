{
 "cells": [
  {
   "cell_type": "markdown",
   "metadata": {},
   "source": [
    "## **What is Elasticsearch?**\n",
    "\n",
    "Elasticsearch is a distributed search and analytics engine, scalable data store, and vector database built on Apache Lucene. It’s optimized for speed and relevance on production-scale workloads. Use Elasticsearch to search, index, store, and analyze data of all shapes and sizes in near real time."
   ]
  },
  {
   "cell_type": "markdown",
   "metadata": {},
   "source": [
    "Official documentation: https://www.elastic.co/guide/en/elasticsearch/reference/current/index.html"
   ]
  },
  {
   "cell_type": "markdown",
   "metadata": {},
   "source": [
    "## **Connect to Elasticsearch**"
   ]
  },
  {
   "cell_type": "code",
   "execution_count": 8,
   "metadata": {},
   "outputs": [
    {
     "name": "stdout",
     "output_type": "stream",
     "text": [
      "Connected to Elasticsearch!\n",
      "{'cluster_name': 'docker-cluster',\n",
      " 'cluster_uuid': 'AKPh90H1StWquQfBPE4Chw',\n",
      " 'name': 'b66a5ae1a4a1',\n",
      " 'tagline': 'You Know, for Search',\n",
      " 'version': {'build_date': '2024-08-05T10:05:34.233336849Z',\n",
      "             'build_flavor': 'default',\n",
      "             'build_hash': '1a77947f34deddb41af25e6f0ddb8e830159c179',\n",
      "             'build_snapshot': False,\n",
      "             'build_type': 'docker',\n",
      "             'lucene_version': '9.11.1',\n",
      "             'minimum_index_compatibility_version': '7.0.0',\n",
      "             'minimum_wire_compatibility_version': '7.17.0',\n",
      "             'number': '8.15.0'}}\n"
     ]
    }
   ],
   "source": [
    "from pprint import pprint\n",
    "from elasticsearch import Elasticsearch\n",
    "from dotenv import load_dotenv\n",
    "import os\n",
    "load_dotenv()\n",
    "# why doesn't this work?\n",
    "\n",
    "# LOCALHOST = os.getenv('LOCALHOST')\n",
    "# print(LOCALHOST)\n",
    "\n",
    "LOCALHOST = \"http://localhost:9200/\"\n",
    "\n",
    "es = Elasticsearch(LOCALHOST)\n",
    "client_info = es.info()\n",
    "print('Connected to Elasticsearch!')\n",
    "pprint(client_info.body)"
   ]
  },
  {
   "cell_type": "markdown",
   "metadata": {},
   "source": [
    "## **Connect to Elasticsearch using dotenv**"
   ]
  },
  {
   "cell_type": "code",
   "execution_count": 16,
   "metadata": {},
   "outputs": [
    {
     "name": "stdout",
     "output_type": "stream",
     "text": [
      "Current working directory: e:\\Study Space\\Python Workspace\\ELastic Search\n",
      "Environment file path: e:\\Study Space\\Python Workspace\\ELastic Search\\.env.local\n",
      "Raw LOCALHOST value: 'http://localhost:9200/'\n",
      "Processed LOCALHOST value: 'http://localhost:9200/'\n",
      "Connected to Elasticsearch!\n",
      "{'cluster_name': 'docker-cluster',\n",
      " 'cluster_uuid': 'AKPh90H1StWquQfBPE4Chw',\n",
      " 'name': 'b66a5ae1a4a1',\n",
      " 'tagline': 'You Know, for Search',\n",
      " 'version': {'build_date': '2024-08-05T10:05:34.233336849Z',\n",
      "             'build_flavor': 'default',\n",
      "             'build_hash': '1a77947f34deddb41af25e6f0ddb8e830159c179',\n",
      "             'build_snapshot': False,\n",
      "             'build_type': 'docker',\n",
      "             'lucene_version': '9.11.1',\n",
      "             'minimum_index_compatibility_version': '7.0.0',\n",
      "             'minimum_wire_compatibility_version': '7.17.0',\n",
      "             'number': '8.15.0'}}\n"
     ]
    }
   ],
   "source": [
    "from pprint import pprint\n",
    "from elasticsearch import Elasticsearch\n",
    "from dotenv import load_dotenv\n",
    "import os\n",
    "\n",
    "# Use absolute path to load .env.local\n",
    "env_path = os.path.join('e:\\\\', 'Study Space', 'Python Workspace', 'ELastic Search', '.env.local')\n",
    "load_dotenv(dotenv_path=env_path)\n",
    "\n",
    "# Print debugging information\n",
    "print(\"Current working directory:\", os.getcwd())\n",
    "print(\"Environment file path:\", env_path)\n",
    "\n",
    "# Get the LOCALHOST variable\n",
    "LOCALHOST = os.getenv('LOCALHOST')\n",
    "print(\"Raw LOCALHOST value:\", repr(LOCALHOST))\n",
    "\n",
    "# Remove quotes if present and ensure it's a valid string\n",
    "if LOCALHOST:\n",
    "    LOCALHOST = LOCALHOST.strip('\"')\n",
    "    print(\"Processed LOCALHOST value:\", repr(LOCALHOST))\n",
    "\n",
    "# Connect to Elasticsearch\n",
    "try:\n",
    "    es = Elasticsearch(LOCALHOST)\n",
    "    client_info = es.info()\n",
    "    print('Connected to Elasticsearch!')\n",
    "    pprint(client_info.body)\n",
    "except Exception as e:"
   ]
  },
  {
   "cell_type": "markdown",
   "metadata": {},
   "source": [
    "## **Create an index**"
   ]
  },
  {
   "cell_type": "markdown",
   "metadata": {},
   "source": [
    "In Elasticsearch, an index is a structure used to store and organize data, similar to a database in traditional relational database systems. It allows Elasticsearch to efficiently search, filter, and retrieve relevant data."
   ]
  },
  {
   "cell_type": "markdown",
   "metadata": {},
   "source": [
    "### **Analogy:**\n",
    "\n",
    "Think of an index in Elasticsearch like a book's index:\n",
    "\n",
    "* The index helps locate information quickly (efficient searching).\n",
    "* The documents are the pages of the book (data records).\n",
    "* The fields in a document are like headings under which the information is categorized.\n",
    "\n",
    "## **Example:**\n",
    "\n",
    "If you're creating a blog search engine, you might create an index named blogs where:\n",
    "\n",
    "* Each document represents a blog post.\n",
    "* Fields in each document might include title, author, content, and published_date."
   ]
  },
  {
   "cell_type": "code",
   "execution_count": 23,
   "metadata": {},
   "outputs": [
    {
     "data": {
      "text/plain": [
       "ObjectApiResponse({'acknowledged': True, 'shards_acknowledged': True, 'index': 'test-index'})"
      ]
     },
     "execution_count": 23,
     "metadata": {},
     "output_type": "execute_result"
    }
   ],
   "source": [
    "es.indices.delete(index='test-index',ignore_unavailable=True)\n",
    "es.indices.create(index='test-index')"
   ]
  },
  {
   "cell_type": "code",
   "execution_count": 24,
   "metadata": {},
   "outputs": [
    {
     "data": {
      "text/plain": [
       "ObjectApiResponse({'acknowledged': True, 'shards_acknowledged': True, 'index': 'test-index'})"
      ]
     },
     "execution_count": 24,
     "metadata": {},
     "output_type": "execute_result"
    }
   ],
   "source": [
    "es.indices.delete(index='test-index',ignore_unavailable=True)\n",
    "es.indices.create(index='test-index'\n",
    "                  ,settings={\n",
    "                    'number_of_shards': 3, \n",
    "                    'number_of_replicas': 2\n",
    "                    })"
   ]
  }
 ],
 "metadata": {
  "kernelspec": {
   "display_name": "eleastic_search_venv",
   "language": "python",
   "name": "python3"
  },
  "language_info": {
   "codemirror_mode": {
    "name": "ipython",
    "version": 3
   },
   "file_extension": ".py",
   "mimetype": "text/x-python",
   "name": "python",
   "nbconvert_exporter": "python",
   "pygments_lexer": "ipython3",
   "version": "3.12.5"
  }
 },
 "nbformat": 4,
 "nbformat_minor": 2
}
